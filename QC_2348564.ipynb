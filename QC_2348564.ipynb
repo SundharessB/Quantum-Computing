{
  "cells": [
    {
      "cell_type": "markdown",
      "metadata": {
        "id": "view-in-github",
        "colab_type": "text"
      },
      "source": [
        "<a href=\"https://colab.research.google.com/github/SundharessB/Quantum-Computing/blob/main/QC_2348564.ipynb\" target=\"_parent\"><img src=\"https://colab.research.google.com/assets/colab-badge.svg\" alt=\"Open In Colab\"/></a>"
      ]
    },
    {
      "cell_type": "code",
      "execution_count": null,
      "metadata": {
        "id": "ftcqzi9jFUER",
        "outputId": "46b8481d-24db-4dc7-e350-842bcc03c9f6"
      },
      "outputs": [
        {
          "name": "stdout",
          "output_type": "stream",
          "text": [
            "Collecting qiskitNote: you may need to restart the kernel to use updated packages.\n",
            "\n",
            "  Downloading qiskit-1.2.4-cp38-abi3-win_amd64.whl (4.6 MB)\n",
            "     ---------------------------------------- 4.6/4.6 MB 10.5 MB/s eta 0:00:00\n",
            "Requirement already satisfied: scipy>=1.5 in d:\\. neuroplasticity research\\venv\\lib\\site-packages (from qiskit) (1.12.0)\n",
            "Requirement already satisfied: python-dateutil>=2.8.0 in d:\\. neuroplasticity research\\venv\\lib\\site-packages (from qiskit) (2.8.2)\n",
            "Collecting stevedore>=3.0.0\n",
            "  Downloading stevedore-5.3.0-py3-none-any.whl (49 kB)\n",
            "     ---------------------------------------- 49.7/49.7 KB 2.5 MB/s eta 0:00:00\n",
            "Collecting dill>=0.3\n",
            "  Downloading dill-0.3.9-py3-none-any.whl (119 kB)\n",
            "     ---------------------------------------- 119.4/119.4 KB ? eta 0:00:00\n",
            "Requirement already satisfied: typing-extensions in d:\\. neuroplasticity research\\venv\\lib\\site-packages (from qiskit) (4.12.2)\n",
            "Collecting symengine<0.14,>=0.11\n",
            "  Downloading symengine-0.13.0-cp39-cp39-win_amd64.whl (17.8 MB)\n",
            "     ---------------------------------------- 17.8/17.8 MB 7.5 MB/s eta 0:00:00\n",
            "Collecting rustworkx>=0.15.0\n",
            "  Downloading rustworkx-0.15.1-cp38-abi3-win_amd64.whl (1.8 MB)\n",
            "     ---------------------------------------- 1.8/1.8 MB 10.6 MB/s eta 0:00:00\n",
            "Requirement already satisfied: sympy>=1.3 in d:\\. neuroplasticity research\\venv\\lib\\site-packages (from qiskit) (1.13.1)\n",
            "Requirement already satisfied: numpy<3,>=1.17 in d:\\. neuroplasticity research\\venv\\lib\\site-packages (from qiskit) (1.26.3)\n",
            "Requirement already satisfied: six>=1.5 in d:\\. neuroplasticity research\\venv\\lib\\site-packages (from python-dateutil>=2.8.0->qiskit) (1.16.0)\n",
            "Collecting pbr>=2.0.0\n",
            "  Downloading pbr-6.1.0-py2.py3-none-any.whl (108 kB)\n",
            "     -------------------------------------- 108.5/108.5 KB 6.1 MB/s eta 0:00:00\n",
            "Requirement already satisfied: mpmath<1.4,>=1.1.0 in d:\\. neuroplasticity research\\venv\\lib\\site-packages (from sympy>=1.3->qiskit) (1.3.0)\n",
            "Installing collected packages: symengine, rustworkx, pbr, dill, stevedore, qiskit\n",
            "Successfully installed dill-0.3.9 pbr-6.1.0 qiskit-1.2.4 rustworkx-0.15.1 stevedore-5.3.0 symengine-0.13.0\n"
          ]
        },
        {
          "name": "stderr",
          "output_type": "stream",
          "text": [
            "WARNING: You are using pip version 22.0.4; however, version 24.2 is available.\n",
            "You should consider upgrading via the 'd:\\. NEUROPLASTICITY RESEARCH\\venv\\Scripts\\python.exe -m pip install --upgrade pip' command.\n"
          ]
        }
      ],
      "source": [
        "pip install qiskit"
      ]
    },
    {
      "cell_type": "code",
      "execution_count": null,
      "metadata": {
        "id": "846SM8twFUET"
      },
      "outputs": [],
      "source": [
        "from qiskit import QuantumCircuit, QuantumRegister, ClassicalRegister\n",
        "from qiskit.quantum_info import Statevector\n",
        "from qiskit.visualization import plot_histogram"
      ]
    },
    {
      "cell_type": "code",
      "execution_count": null,
      "metadata": {
        "id": "-I5FBdhoFUET",
        "outputId": "a92d1ae0-75e0-462d-9750-dabfd66defb5"
      },
      "outputs": [
        {
          "ename": "ImportError",
          "evalue": "cannot import name 'Aer' from 'qiskit' (d:\\. NEUROPLASTICITY RESEARCH\\venv\\lib\\site-packages\\qiskit\\__init__.py)",
          "output_type": "error",
          "traceback": [
            "\u001b[1;31m---------------------------------------------------------------------------\u001b[0m",
            "\u001b[1;31mImportError\u001b[0m                               Traceback (most recent call last)",
            "Cell \u001b[1;32mIn[4], line 1\u001b[0m\n\u001b[1;32m----> 1\u001b[0m \u001b[38;5;28;01mfrom\u001b[39;00m \u001b[38;5;21;01mqiskit\u001b[39;00m \u001b[38;5;28;01mimport\u001b[39;00m QuantumCircuit, QuantumRegister, ClassicalRegister, Aer\n",
            "\u001b[1;31mImportError\u001b[0m: cannot import name 'Aer' from 'qiskit' (d:\\. NEUROPLASTICITY RESEARCH\\venv\\lib\\site-packages\\qiskit\\__init__.py)"
          ]
        }
      ],
      "source": [
        "from qiskit import QuantumCircuit, QuantumRegister, ClassicalRegister, Aer\n"
      ]
    },
    {
      "cell_type": "code",
      "execution_count": null,
      "metadata": {
        "id": "3QVMbmQnFUET",
        "outputId": "740ee0a0-21af-4c00-baaf-17bbfaeefbda"
      },
      "outputs": [
        {
          "name": "stdout",
          "output_type": "stream",
          "text": [
            "Note: you may need to restart the kernel to use updated packages.\n"
          ]
        },
        {
          "name": "stderr",
          "output_type": "stream",
          "text": [
            "ERROR: Invalid requirement: 'qiskit.'\n",
            "WARNING: You are using pip version 22.0.4; however, version 24.2 is available.\n",
            "You should consider upgrading via the 'd:\\. NEUROPLASTICITY RESEARCH\\venv\\Scripts\\python.exe -m pip install --upgrade pip' command.\n"
          ]
        }
      ],
      "source": [
        "pip install --upgrade qiskit.\n"
      ]
    },
    {
      "cell_type": "code",
      "execution_count": null,
      "metadata": {
        "id": "XdAJqoHDFUET",
        "outputId": "77b4fe1c-927c-4cf6-aa57-7348ae288e66"
      },
      "outputs": [
        {
          "name": "stdout",
          "output_type": "stream",
          "text": [
            "Collecting pylatexencNote: you may need to restart the kernel to use updated packages.\n"
          ]
        },
        {
          "name": "stderr",
          "output_type": "stream",
          "text": [
            "WARNING: You are using pip version 22.0.4; however, version 24.2 is available.\n",
            "You should consider upgrading via the 'd:\\. NEUROPLASTICITY RESEARCH\\venv\\Scripts\\python.exe -m pip install --upgrade pip' command.\n"
          ]
        },
        {
          "name": "stdout",
          "output_type": "stream",
          "text": [
            "\n",
            "  Downloading pylatexenc-2.10.tar.gz (162 kB)\n",
            "     ------------------------------------ 162.6/162.6 KB 976.6 kB/s eta 0:00:00\n",
            "  Preparing metadata (setup.py): started\n",
            "  Preparing metadata (setup.py): finished with status 'done'\n",
            "Using legacy 'setup.py install' for pylatexenc, since package 'wheel' is not installed.\n",
            "Installing collected packages: pylatexenc\n",
            "  Running setup.py install for pylatexenc: started\n",
            "  Running setup.py install for pylatexenc: finished with status 'done'\n",
            "Successfully installed pylatexenc-2.10\n"
          ]
        }
      ],
      "source": [
        "pip install pylatexenc"
      ]
    },
    {
      "cell_type": "code",
      "execution_count": null,
      "metadata": {
        "id": "f7dzlMceFUEU",
        "outputId": "8f6d97d5-1e8b-430d-a148-14a996c372d2"
      },
      "outputs": [
        {
          "name": "stdout",
          "output_type": "stream",
          "text": [
            "Collecting qiskit==0.46.0Note: you may need to restart the kernel to use updated packages.\n",
            "\n",
            "  Downloading qiskit-0.46.0-py3-none-any.whl (9.6 kB)\n",
            "Collecting qiskit-terra==0.46.0\n",
            "  Downloading qiskit_terra-0.46.0-cp38-abi3-win_amd64.whl (5.2 MB)\n",
            "     ---------------------------------------- 5.2/5.2 MB 4.0 MB/s eta 0:00:00\n",
            "Collecting ply>=3.10\n",
            "  Downloading ply-3.11-py2.py3-none-any.whl (49 kB)\n",
            "     ---------------------------------------- 49.6/49.6 KB 1.3 MB/s eta 0:00:00\n",
            "Requirement already satisfied: sympy>=1.3 in d:\\. neuroplasticity research\\venv\\lib\\site-packages (from qiskit-terra==0.46.0->qiskit==0.46.0) (1.13.1)\n",
            "Requirement already satisfied: scipy>=1.5 in d:\\. neuroplasticity research\\venv\\lib\\site-packages (from qiskit-terra==0.46.0->qiskit==0.46.0) (1.12.0)\n",
            "Requirement already satisfied: dill>=0.3 in d:\\. neuroplasticity research\\venv\\lib\\site-packages (from qiskit-terra==0.46.0->qiskit==0.46.0) (0.3.9)\n",
            "Requirement already satisfied: stevedore>=3.0.0 in d:\\. neuroplasticity research\\venv\\lib\\site-packages (from qiskit-terra==0.46.0->qiskit==0.46.0) (5.3.0)\n",
            "Requirement already satisfied: typing-extensions in d:\\. neuroplasticity research\\venv\\lib\\site-packages (from qiskit-terra==0.46.0->qiskit==0.46.0) (4.12.2)\n",
            "Requirement already satisfied: python-dateutil>=2.8.0 in d:\\. neuroplasticity research\\venv\\lib\\site-packages (from qiskit-terra==0.46.0->qiskit==0.46.0) (2.8.2)\n",
            "Requirement already satisfied: rustworkx>=0.13.0 in d:\\. neuroplasticity research\\venv\\lib\\site-packages (from qiskit-terra==0.46.0->qiskit==0.46.0) (0.15.1)\n",
            "Requirement already satisfied: psutil>=5 in d:\\. neuroplasticity research\\venv\\lib\\site-packages (from qiskit-terra==0.46.0->qiskit==0.46.0) (5.9.8)\n",
            "Requirement already satisfied: numpy<2,>=1.17 in d:\\. neuroplasticity research\\venv\\lib\\site-packages (from qiskit-terra==0.46.0->qiskit==0.46.0) (1.26.3)\n",
            "Requirement already satisfied: six>=1.5 in d:\\. neuroplasticity research\\venv\\lib\\site-packages (from python-dateutil>=2.8.0->qiskit-terra==0.46.0->qiskit==0.46.0) (1.16.0)\n",
            "Requirement already satisfied: pbr>=2.0.0 in d:\\. neuroplasticity research\\venv\\lib\\site-packages (from stevedore>=3.0.0->qiskit-terra==0.46.0->qiskit==0.46.0) (6.1.0)\n",
            "Requirement already satisfied: mpmath<1.4,>=1.1.0 in d:\\. neuroplasticity research\\venv\\lib\\site-packages (from sympy>=1.3->qiskit-terra==0.46.0->qiskit==0.46.0) (1.3.0)\n",
            "Installing collected packages: ply, qiskit-terra, qiskit\n"
          ]
        },
        {
          "name": "stderr",
          "output_type": "stream",
          "text": [
            "ERROR: Could not install packages due to an OSError: [WinError 5] Access is denied: 'd:\\\\. NEUROPLASTICITY RESEARCH\\\\venv\\\\Lib\\\\site-packages\\\\qiskit\\\\_accelerate.pyd'\n",
            "Check the permissions.\n",
            "\n",
            "WARNING: You are using pip version 22.0.4; however, version 24.2 is available.\n",
            "You should consider upgrading via the 'd:\\. NEUROPLASTICITY RESEARCH\\venv\\Scripts\\python.exe -m pip install --upgrade pip' command.\n"
          ]
        }
      ],
      "source": [
        "pip install qiskit==0.46.0"
      ]
    },
    {
      "cell_type": "code",
      "execution_count": null,
      "metadata": {
        "id": "lrKvPIvvFUEU",
        "outputId": "1c046d6d-d7fc-4c4f-fa90-ac1cf6d3cc6e"
      },
      "outputs": [
        {
          "name": "stdout",
          "output_type": "stream",
          "text": [
            "Note: you may need to restart the kernel to use updated packages.Collecting qiskit-aer\n",
            "  Downloading qiskit_aer-0.15.1-cp39-cp39-win_amd64.whl (9.5 MB)\n",
            "     ---------------------------------------- 9.5/9.5 MB 3.5 MB/s eta 0:00:00\n",
            "Requirement already satisfied: qiskit>=1.1.0 in d:\\. neuroplasticity research\\venv\\lib\\site-packages (from qiskit-aer) (1.2.4)\n",
            "Requirement already satisfied: psutil>=5 in d:\\. neuroplasticity research\\venv\\lib\\site-packages (from qiskit-aer) (5.9.8)\n",
            "Requirement already satisfied: scipy>=1.0 in d:\\. neuroplasticity research\\venv\\lib\\site-packages (from qiskit-aer) (1.12.0)\n",
            "Requirement already satisfied: numpy>=1.16.3 in d:\\. neuroplasticity research\\venv\\lib\\site-packages (from qiskit-aer) (1.26.3)\n",
            "Requirement already satisfied: typing-extensions in d:\\. neuroplasticity research\\venv\\lib\\site-packages (from qiskit>=1.1.0->qiskit-aer) (4.12.2)\n",
            "Requirement already satisfied: symengine<0.14,>=0.11 in d:\\. neuroplasticity research\\venv\\lib\\site-packages (from qiskit>=1.1.0->qiskit-aer) (0.13.0)\n",
            "Requirement already satisfied: stevedore>=3.0.0 in d:\\. neuroplasticity research\\venv\\lib\\site-packages (from qiskit>=1.1.0->qiskit-aer) (5.3.0)\n",
            "Requirement already satisfied: rustworkx>=0.15.0 in d:\\. neuroplasticity research\\venv\\lib\\site-packages (from qiskit>=1.1.0->qiskit-aer) (0.15.1)\n",
            "Requirement already satisfied: python-dateutil>=2.8.0 in d:\\. neuroplasticity research\\venv\\lib\\site-packages (from qiskit>=1.1.0->qiskit-aer) (2.8.2)\n",
            "Requirement already satisfied: sympy>=1.3 in d:\\. neuroplasticity research\\venv\\lib\\site-packages (from qiskit>=1.1.0->qiskit-aer) (1.13.1)\n",
            "Requirement already satisfied: dill>=0.3 in d:\\. neuroplasticity research\\venv\\lib\\site-packages (from qiskit>=1.1.0->qiskit-aer) (0.3.9)\n",
            "Requirement already satisfied: six>=1.5 in d:\\. neuroplasticity research\\venv\\lib\\site-packages (from python-dateutil>=2.8.0->qiskit>=1.1.0->qiskit-aer) (1.16.0)\n",
            "Requirement already satisfied: pbr>=2.0.0 in d:\\. neuroplasticity research\\venv\\lib\\site-packages (from stevedore>=3.0.0->qiskit>=1.1.0->qiskit-aer) (6.1.0)\n",
            "Requirement already satisfied: mpmath<1.4,>=1.1.0 in d:\\. neuroplasticity research\\venv\\lib\\site-packages (from sympy>=1.3->qiskit>=1.1.0->qiskit-aer) (1.3.0)\n",
            "Installing collected packages: qiskit-aer\n",
            "Successfully installed qiskit-aer-0.15.1\n",
            "\n"
          ]
        },
        {
          "name": "stderr",
          "output_type": "stream",
          "text": [
            "WARNING: You are using pip version 22.0.4; however, version 24.2 is available.\n",
            "You should consider upgrading via the 'd:\\. NEUROPLASTICITY RESEARCH\\venv\\Scripts\\python.exe -m pip install --upgrade pip' command.\n"
          ]
        }
      ],
      "source": [
        "pip install qiskit-aer\n"
      ]
    },
    {
      "cell_type": "code",
      "execution_count": null,
      "metadata": {
        "id": "Fq6MxXqhFUEU"
      },
      "outputs": [],
      "source": [
        "import matplotlib.pyplot as plt"
      ]
    },
    {
      "cell_type": "code",
      "execution_count": null,
      "metadata": {
        "id": "SH2e1HAQFUEU"
      },
      "outputs": [],
      "source": [
        "from qiskit_aer import Aer"
      ]
    },
    {
      "cell_type": "code",
      "execution_count": null,
      "metadata": {
        "id": "rICkGOV3FUEU"
      },
      "outputs": [],
      "source": [
        "import numpy as np"
      ]
    },
    {
      "cell_type": "code",
      "execution_count": null,
      "metadata": {
        "id": "pWuE5jDbFUEU"
      },
      "outputs": [],
      "source": [
        "from qiskit import transpile, assemble"
      ]
    },
    {
      "cell_type": "code",
      "execution_count": null,
      "metadata": {
        "id": "smdScjVtFUEV",
        "outputId": "7de55543-d4d8-4d1c-df21-99d215f56761"
      },
      "outputs": [
        {
          "data": {
            "text/plain": [
              "<qiskit.circuit.instructionset.InstructionSet at 0x25606044580>"
            ]
          },
          "execution_count": 8,
          "metadata": {},
          "output_type": "execute_result"
        }
      ],
      "source": [
        "# Create a Quantum Circuit with 3 qubits and 3 classical bits\n",
        "qreg = QuantumRegister(3)\n",
        "creg = ClassicalRegister(3)\n",
        "qc = QuantumCircuit(qreg, creg)\n",
        "\n",
        "# Apply Hadamard gate to the first qubit\n",
        "qc.h(qreg[0])\n",
        "\n",
        "# Apply CNOT gate with control qubit 0 and target qubit 2\n",
        "qc.cx(qreg[0], qreg[2])\n",
        "\n",
        "# Measure all qubits\n",
        "qc.measure(qreg, creg)"
      ]
    },
    {
      "cell_type": "code",
      "execution_count": null,
      "metadata": {
        "id": "y0JtRW6nFUEV"
      },
      "outputs": [],
      "source": [
        "simulator = Aer.get_backend('aer_simulator')"
      ]
    },
    {
      "cell_type": "code",
      "execution_count": null,
      "metadata": {
        "id": "artG_U2cFUEV",
        "outputId": "01e0b8a3-f7ff-4042-84df-e1206213036e"
      },
      "outputs": [
        {
          "name": "stdout",
          "output_type": "stream",
          "text": [
            "{'000': 535, '101': 489}\n"
          ]
        },
        {
          "name": "stderr",
          "output_type": "stream",
          "text": [
            "C:\\Users\\Udhay12345\\AppData\\Local\\Temp\\ipykernel_27780\\1322677560.py:10: UserWarning: FigureCanvasAgg is non-interactive, and thus cannot be shown\n",
            "  plot_histogram(counts).show()\n"
          ]
        }
      ],
      "source": [
        "# Transpile the circuit\n",
        "transpiled_qc = transpile(qc, Aer.get_backend('aer_simulator'))\n",
        "\n",
        "# Execute the transpiled circuit\n",
        "job = Aer.get_backend('aer_simulator').run(transpiled_qc, shots=1024)\n",
        "result = job.result()\n",
        "counts = result.get_counts(qc)\n",
        "\n",
        "print(counts)\n",
        "plot_histogram(counts).show()"
      ]
    },
    {
      "cell_type": "code",
      "execution_count": null,
      "metadata": {
        "id": "DdIi64tYFUEV"
      },
      "outputs": [],
      "source": [
        "plot_histogram(counts)\n",
        "plt.show()"
      ]
    },
    {
      "cell_type": "code",
      "execution_count": null,
      "metadata": {
        "id": "eGKJxOQbFUEV",
        "outputId": "3fe41013-dc40-4322-ca6d-f5da39e68ffd"
      },
      "outputs": [
        {
          "data": {
            "image/png": "[encoded data removed]",
            "text/plain": [
              "<Figure size 472.949x367.889 with 1 Axes>"
            ]
          },
          "execution_count": 31,
          "metadata": {},
          "output_type": "execute_result"
        }
      ],
      "source": [
        "qc.draw(output='mpl')"
      ]
    },
    {
      "cell_type": "code",
      "execution_count": null,
      "metadata": {
        "id": "WQMcJ_30FUEV",
        "outputId": "4931b855-e2d0-44f2-d985-b33ec3c12ec2"
      },
      "outputs": [
        {
          "data": {
            "text/html": [
              "<pre style=\"word-wrap: normal;white-space: pre;background: #fff0;line-height: 1.1;font-family: &quot;Courier New&quot;,Courier,monospace\">      ┌───┐     ┌─┐   \n",
              "q1_0: ┤ H ├──■──┤M├───\n",
              "      └┬─┬┘  │  └╥┘   \n",
              "q1_1: ─┤M├───┼───╫────\n",
              "       └╥┘ ┌─┴─┐ ║ ┌─┐\n",
              "q1_2: ──╫──┤ X ├─╫─┤M├\n",
              "        ║  └───┘ ║ └╥┘\n",
              "c0: 3/══╩════════╩══╩═\n",
              "        1        0  2 </pre>"
            ],
            "text/plain": [
              "      ┌───┐     ┌─┐   \n",
              "q1_0: ┤ H ├──■──┤M├───\n",
              "      └┬─┬┘  │  └╥┘   \n",
              "q1_1: ─┤M├───┼───╫────\n",
              "       └╥┘ ┌─┴─┐ ║ ┌─┐\n",
              "q1_2: ──╫──┤ X ├─╫─┤M├\n",
              "        ║  └───┘ ║ └╥┘\n",
              "c0: 3/══╩════════╩══╩═\n",
              "        1        0  2 "
            ]
          },
          "execution_count": 30,
          "metadata": {},
          "output_type": "execute_result"
        }
      ],
      "source": [
        "qc.draw('text')"
      ]
    },
    {
      "cell_type": "code",
      "execution_count": null,
      "metadata": {
        "id": "MC405hu7FUEW"
      },
      "outputs": [],
      "source": [
        "def normalize_state_vector(state_vector):\n",
        "    norm = np.sqrt(np.sum(np.abs(state_vector)**2))\n",
        "    return state_vector / norm\n",
        "\n",
        "def simulate_circuit(initial_state):\n",
        "    qreg = QuantumRegister(3)\n",
        "    creg = ClassicalRegister(3)\n",
        "    qc = QuantumCircuit(qreg, creg)\n",
        "\n",
        "    # Normalize the initial state\n",
        "    normalized_state = normalize_state_vector(initial_state)\n",
        "\n",
        "    # Initialize the qubits with the normalized state\n",
        "    qc.initialize(normalized_state, qreg)\n",
        "\n",
        "    # Apply Hadamard gate to the first qubit\n",
        "    qc.h(qreg[0])\n",
        "\n",
        "    # Apply CNOT gate with control qubit 0 and target qubit 2\n",
        "    qc.cx(qreg[0], qreg[2])\n",
        "\n",
        "    # Measure all qubits\n",
        "    qc.measure(qreg, creg)\n",
        "\n",
        "    # Transpile and simulate the circuit\n",
        "    transpiled_qc = transpile(qc, Aer.get_backend('aer_simulator'))\n",
        "    job = Aer.get_backend('aer_simulator').run(transpiled_qc, shots=1024)\n",
        "    result = job.result()\n",
        "    counts = result.get_counts(qc)\n",
        "\n",
        "    return counts\n",
        "\n"
      ]
    },
    {
      "cell_type": "code",
      "execution_count": null,
      "metadata": {
        "id": "IULnhJNRFUEW",
        "outputId": "5ca85d77-3f4f-4d4e-a21f-2ba20d0dfc9a"
      },
      "outputs": [
        {
          "name": "stdout",
          "output_type": "stream",
          "text": [
            "Initial state: [1, 0, 0, 0, 0, 0, 0, 0]\n",
            "{'101': 552, '000': 472}\n",
            "Initial state: [0, 1, 0, 0, 0, 0, 0, 0]\n",
            "{'000': 503, '101': 521}\n",
            "Initial state: [0, 0, 1, 0, 0, 0, 0, 0]\n",
            "{'010': 534, '111': 490}\n",
            "Initial state: [0.7071067811865475, 0.7071067811865475, 0, 0, 0, 0, 0, 0]\n",
            "{'000': 1024}\n"
          ]
        }
      ],
      "source": [
        "# Define different initial states\n",
        "initial_states = [\n",
        "    [1, 0, 0, 0, 0, 0, 0, 0],  # |100>\n",
        "    [0, 1, 0, 0, 0, 0, 0, 0],  # |010>\n",
        "    [0, 0, 1, 0, 0, 0, 0, 0],  # |001>\n",
        "    [1/np.sqrt(2), 1/np.sqrt(2), 0, 0, 0, 0, 0, 0]  # Superposition state\n",
        "]\n",
        "\n",
        "# Simulate the circuit for each initial state\n",
        "for state in initial_states:\n",
        "    counts = simulate_circuit(state)\n",
        "    print(f\"Initial state: {state}\")\n",
        "    print(counts)\n",
        "    plot_histogram(counts)\n",
        "    plt.show()\n"
      ]
    },
    {
      "cell_type": "code",
      "execution_count": null,
      "metadata": {
        "id": "Ivlh9QV-FUEW",
        "outputId": "79b8daac-7ed4-4b3c-cb60-c67fb52a959a"
      },
      "outputs": [
        {
          "name": "stdout",
          "output_type": "stream",
          "text": [
            "Output counts for different initial states:\n",
            "{'101': 521, '110': 503}\n"
          ]
        }
      ],
      "source": [
        "# Define the circuit with 3 qubits and 3 classical bits\n",
        "qc = QuantumCircuit(3, 3)\n",
        "\n",
        "# Apply Hadamard gate on q0\n",
        "qc.h(0)\n",
        "\n",
        "# Apply X gate on q2\n",
        "qc.x(2)\n",
        "\n",
        "# Apply CNOT gate with q0 as control and q1 as target\n",
        "qc.cx(0, 1)\n",
        "\n",
        "# Apply CNOT gate with q2 as control and q1 as target\n",
        "qc.cx(2, 1)\n",
        "\n",
        "# Measure all qubits\n",
        "qc.measure([0, 1, 2], [0, 1, 2])\n",
        "\n",
        "# Simulate the circuit\n",
        "simulator = Aer.get_backend('aer_simulator')\n",
        "transpiled_qc = transpile(qc, simulator)\n",
        "job = simulator.run(transpiled_qc, shots=1024)\n",
        "result = job.result()\n",
        "counts = result.get_counts(qc)\n",
        "\n",
        "# Display the results\n",
        "print(\"Output counts for different initial states:\")\n",
        "print(counts)\n",
        "plot_histogram(counts)\n",
        "plt.show()\n"
      ]
    },
    {
      "cell_type": "code",
      "execution_count": null,
      "metadata": {
        "id": "sYneLjPIFUEW",
        "outputId": "5d47d635-73ab-4487-bc8a-a6c7ca34c57a"
      },
      "outputs": [
        {
          "data": {
            "image/png": "[encoded data removed]",
            "text/plain": [
              "<Figure size 621.941x367.889 with 1 Axes>"
            ]
          },
          "execution_count": 46,
          "metadata": {},
          "output_type": "execute_result"
        }
      ],
      "source": [
        "qc.draw(output='mpl')"
      ]
    },
    {
      "cell_type": "code",
      "execution_count": null,
      "metadata": {
        "id": "zhl_H4uFFUEW",
        "outputId": "58863b84-2ea9-487d-c202-787e942dea9c"
      },
      "outputs": [
        {
          "data": {
            "text/html": [
              "<pre style=\"word-wrap: normal;white-space: pre;background: #fff0;line-height: 1.1;font-family: &quot;Courier New&quot;,Courier,monospace\">     ┌───┐          ┌─┐      \n",
              "q_0: ┤ H ├──■───────┤M├──────\n",
              "     └───┘┌─┴─┐┌───┐└╥┘┌─┐   \n",
              "q_1: ─────┤ X ├┤ X ├─╫─┤M├───\n",
              "     ┌───┐└───┘└─┬─┘ ║ └╥┘┌─┐\n",
              "q_2: ┤ X ├───────■───╫──╫─┤M├\n",
              "     └───┘           ║  ║ └╥┘\n",
              "c: 3/════════════════╩══╩══╩═\n",
              "                     0  1  2 </pre>"
            ],
            "text/plain": [
              "     ┌───┐          ┌─┐      \n",
              "q_0: ┤ H ├──■───────┤M├──────\n",
              "     └───┘┌─┴─┐┌───┐└╥┘┌─┐   \n",
              "q_1: ─────┤ X ├┤ X ├─╫─┤M├───\n",
              "     ┌───┐└───┘└─┬─┘ ║ └╥┘┌─┐\n",
              "q_2: ┤ X ├───────■───╫──╫─┤M├\n",
              "     └───┘           ║  ║ └╥┘\n",
              "c: 3/════════════════╩══╩══╩═\n",
              "                     0  1  2 "
            ]
          },
          "execution_count": 47,
          "metadata": {},
          "output_type": "execute_result"
        }
      ],
      "source": [
        "qc.draw(output='text')"
      ]
    },
    {
      "cell_type": "markdown",
      "metadata": {
        "id": "q84LI9LWFUEW"
      },
      "source": [
        "proof that the order of unitary compositions is crucial in"
      ]
    },
    {
      "cell_type": "code",
      "execution_count": null,
      "metadata": {
        "id": "0rnub3GyFUEX",
        "outputId": "e197d38c-37c7-4ab0-fdab-92e8754048ff"
      },
      "outputs": [
        {
          "name": "stdout",
          "output_type": "stream",
          "text": [
            "     ┌───┐                    \n",
            "q_0: ┤ H ├──■─────────■───────\n",
            "     └───┘┌─┴─┐┌───┐┌─┴─┐┌───┐\n",
            "q_1: ─────┤ X ├┤ Z ├┤ X ├┤ H ├\n",
            "          └───┘└───┘└───┘└───┘\n"
          ]
        }
      ],
      "source": [
        "# Create a Quantum Circuit with 2 qubits\n",
        "qc = QuantumCircuit(2)\n",
        "\n",
        "# Apply Hadamard gate on the first qubit\n",
        "qc.h(0)\n",
        "\n",
        "# Apply CNOT gate with the first qubit as control and the second as target\n",
        "qc.cx(0, 1)\n",
        "\n",
        "# Apply Z gate on the second qubit\n",
        "qc.z(1)\n",
        "\n",
        "# Apply CNOT gate again\n",
        "qc.cx(  # Minor correction, missing closing parenthesis\n",
        "    0, 1\n",
        ")\n",
        "\n",
        "# Apply Hadamard gate on the second qubit\n",
        "qc.h(1)\n",
        "\n",
        "# Visualize the circuit\n",
        "print(qc.draw())"
      ]
    },
    {
      "cell_type": "code",
      "execution_count": null,
      "metadata": {
        "id": "v5lrKZoPFUEX",
        "outputId": "26aa9d31-c971-4550-fe14-b34f3a7a5631"
      },
      "outputs": [
        {
          "name": "stderr",
          "output_type": "stream",
          "text": [
            "C:\\Users\\Udhay12345\\AppData\\Local\\Temp\\ipykernel_27780\\2016049641.py:8: DeprecationWarning: The function ``qiskit.compiler.assembler.assemble()`` is deprecated as of qiskit 1.2. It will be removed in the 2.0 release. The `Qobj` class and related functionality are part of the deprecated `BackendV1` workflow,  and no longer necessary for `BackendV2`. If a user workflow requires `Qobj` it likely relies on deprecated functionality and should be updated to use `BackendV2`.\n",
            "  qobj = assemble(transpiled_qc)\n"
          ]
        },
        {
          "ename": "TypeError",
          "evalue": "'QasmQobj' object is not iterable",
          "output_type": "error",
          "traceback": [
            "\u001b[1;31m---------------------------------------------------------------------------\u001b[0m",
            "\u001b[1;31mTypeError\u001b[0m                                 Traceback (most recent call last)",
            "Cell \u001b[1;32mIn[57], line 14\u001b[0m\n\u001b[0;32m     11\u001b[0m job \u001b[38;5;241m=\u001b[39m simulator\u001b[38;5;241m.\u001b[39mrun(qobj)\n\u001b[0;32m     13\u001b[0m \u001b[38;5;66;03m# Grab results from the job\u001b[39;00m\n\u001b[1;32m---> 14\u001b[0m result \u001b[38;5;241m=\u001b[39m \u001b[43mjob\u001b[49m\u001b[38;5;241;43m.\u001b[39;49m\u001b[43mresult\u001b[49m\u001b[43m(\u001b[49m\u001b[43m)\u001b[49m\n\u001b[0;32m     16\u001b[0m \u001b[38;5;66;03m# Returns counts\u001b[39;00m\n\u001b[0;32m     17\u001b[0m counts \u001b[38;5;241m=\u001b[39m result\u001b[38;5;241m.\u001b[39mget_counts()\n",
            "File \u001b[1;32md:\\. NEUROPLASTICITY RESEARCH\\venv\\lib\\site-packages\\qiskit_aer\\jobs\\utils.py:38\u001b[0m, in \u001b[0;36mrequires_submit.<locals>._wrapper\u001b[1;34m(self, *args, **kwargs)\u001b[0m\n\u001b[0;32m     36\u001b[0m \u001b[38;5;28;01mif\u001b[39;00m \u001b[38;5;28mself\u001b[39m\u001b[38;5;241m.\u001b[39m_future \u001b[38;5;129;01mis\u001b[39;00m \u001b[38;5;28;01mNone\u001b[39;00m:\n\u001b[0;32m     37\u001b[0m     \u001b[38;5;28;01mraise\u001b[39;00m JobError(\u001b[38;5;124m\"\u001b[39m\u001b[38;5;124mJob not submitted yet!. You have to .submit() first!\u001b[39m\u001b[38;5;124m\"\u001b[39m)\n\u001b[1;32m---> 38\u001b[0m \u001b[38;5;28;01mreturn\u001b[39;00m func(\u001b[38;5;28mself\u001b[39m, \u001b[38;5;241m*\u001b[39margs, \u001b[38;5;241m*\u001b[39m\u001b[38;5;241m*\u001b[39mkwargs)\n",
            "File \u001b[1;32md:\\. NEUROPLASTICITY RESEARCH\\venv\\lib\\site-packages\\qiskit_aer\\jobs\\aerjob.py:96\u001b[0m, in \u001b[0;36mAerJob.result\u001b[1;34m(self, timeout)\u001b[0m\n\u001b[0;32m     78\u001b[0m \u001b[38;5;129m@requires_submit\u001b[39m\n\u001b[0;32m     79\u001b[0m \u001b[38;5;28;01mdef\u001b[39;00m \u001b[38;5;21mresult\u001b[39m(\u001b[38;5;28mself\u001b[39m, timeout\u001b[38;5;241m=\u001b[39m\u001b[38;5;28;01mNone\u001b[39;00m):\n\u001b[0;32m     80\u001b[0m     \u001b[38;5;66;03m# pylint: disable=arguments-differ\u001b[39;00m\n\u001b[0;32m     81\u001b[0m \u001b[38;5;250m    \u001b[39m\u001b[38;5;124;03m\"\"\"Get job result. The behavior is the same as the underlying\u001b[39;00m\n\u001b[0;32m     82\u001b[0m \u001b[38;5;124;03m    concurrent Future objects,\u001b[39;00m\n\u001b[0;32m     83\u001b[0m \n\u001b[1;32m   (...)\u001b[0m\n\u001b[0;32m     94\u001b[0m \u001b[38;5;124;03m        concurrent.futures.CancelledError: if job cancelled before completed.\u001b[39;00m\n\u001b[0;32m     95\u001b[0m \u001b[38;5;124;03m    \"\"\"\u001b[39;00m\n\u001b[1;32m---> 96\u001b[0m     \u001b[38;5;28;01mreturn\u001b[39;00m \u001b[38;5;28;43mself\u001b[39;49m\u001b[38;5;241;43m.\u001b[39;49m\u001b[43m_future\u001b[49m\u001b[38;5;241;43m.\u001b[39;49m\u001b[43mresult\u001b[49m\u001b[43m(\u001b[49m\u001b[43mtimeout\u001b[49m\u001b[38;5;241;43m=\u001b[39;49m\u001b[43mtimeout\u001b[49m\u001b[43m)\u001b[49m\n",
            "File \u001b[1;32mC:\\Program Files\\WindowsApps\\PythonSoftwareFoundation.Python.3.9_3.9.3568.0_x64__qbz5n2kfra8p0\\lib\\concurrent\\futures\\_base.py:446\u001b[0m, in \u001b[0;36mFuture.result\u001b[1;34m(self, timeout)\u001b[0m\n\u001b[0;32m    444\u001b[0m     \u001b[38;5;28;01mraise\u001b[39;00m CancelledError()\n\u001b[0;32m    445\u001b[0m \u001b[38;5;28;01melif\u001b[39;00m \u001b[38;5;28mself\u001b[39m\u001b[38;5;241m.\u001b[39m_state \u001b[38;5;241m==\u001b[39m FINISHED:\n\u001b[1;32m--> 446\u001b[0m     \u001b[38;5;28;01mreturn\u001b[39;00m \u001b[38;5;28;43mself\u001b[39;49m\u001b[38;5;241;43m.\u001b[39;49m\u001b[43m__get_result\u001b[49m\u001b[43m(\u001b[49m\u001b[43m)\u001b[49m\n\u001b[0;32m    447\u001b[0m \u001b[38;5;28;01melse\u001b[39;00m:\n\u001b[0;32m    448\u001b[0m     \u001b[38;5;28;01mraise\u001b[39;00m \u001b[38;5;167;01mTimeoutError\u001b[39;00m()\n",
            "File \u001b[1;32mC:\\Program Files\\WindowsApps\\PythonSoftwareFoundation.Python.3.9_3.9.3568.0_x64__qbz5n2kfra8p0\\lib\\concurrent\\futures\\_base.py:391\u001b[0m, in \u001b[0;36mFuture.__get_result\u001b[1;34m(self)\u001b[0m\n\u001b[0;32m    389\u001b[0m \u001b[38;5;28;01mif\u001b[39;00m \u001b[38;5;28mself\u001b[39m\u001b[38;5;241m.\u001b[39m_exception:\n\u001b[0;32m    390\u001b[0m     \u001b[38;5;28;01mtry\u001b[39;00m:\n\u001b[1;32m--> 391\u001b[0m         \u001b[38;5;28;01mraise\u001b[39;00m \u001b[38;5;28mself\u001b[39m\u001b[38;5;241m.\u001b[39m_exception\n\u001b[0;32m    392\u001b[0m     \u001b[38;5;28;01mfinally\u001b[39;00m:\n\u001b[0;32m    393\u001b[0m         \u001b[38;5;66;03m# Break a reference cycle with the exception in self._exception\u001b[39;00m\n\u001b[0;32m    394\u001b[0m         \u001b[38;5;28mself\u001b[39m \u001b[38;5;241m=\u001b[39m \u001b[38;5;28;01mNone\u001b[39;00m\n",
            "File \u001b[1;32mC:\\Program Files\\WindowsApps\\PythonSoftwareFoundation.Python.3.9_3.9.3568.0_x64__qbz5n2kfra8p0\\lib\\concurrent\\futures\\thread.py:58\u001b[0m, in \u001b[0;36m_WorkItem.run\u001b[1;34m(self)\u001b[0m\n\u001b[0;32m     55\u001b[0m     \u001b[38;5;28;01mreturn\u001b[39;00m\n\u001b[0;32m     57\u001b[0m \u001b[38;5;28;01mtry\u001b[39;00m:\n\u001b[1;32m---> 58\u001b[0m     result \u001b[38;5;241m=\u001b[39m \u001b[38;5;28mself\u001b[39m\u001b[38;5;241m.\u001b[39mfn(\u001b[38;5;241m*\u001b[39m\u001b[38;5;28mself\u001b[39m\u001b[38;5;241m.\u001b[39margs, \u001b[38;5;241m*\u001b[39m\u001b[38;5;241m*\u001b[39m\u001b[38;5;28mself\u001b[39m\u001b[38;5;241m.\u001b[39mkwargs)\n\u001b[0;32m     59\u001b[0m \u001b[38;5;28;01mexcept\u001b[39;00m \u001b[38;5;167;01mBaseException\u001b[39;00m \u001b[38;5;28;01mas\u001b[39;00m exc:\n\u001b[0;32m     60\u001b[0m     \u001b[38;5;28mself\u001b[39m\u001b[38;5;241m.\u001b[39mfuture\u001b[38;5;241m.\u001b[39mset_exception(exc)\n",
            "File \u001b[1;32md:\\. NEUROPLASTICITY RESEARCH\\venv\\lib\\site-packages\\qiskit_aer\\backends\\aerbackend.py:467\u001b[0m, in \u001b[0;36mAerBackend._execute_circuits_job\u001b[1;34m(self, circuits, parameter_binds, run_options, job_id, format_result)\u001b[0m\n\u001b[0;32m    464\u001b[0m start \u001b[38;5;241m=\u001b[39m time\u001b[38;5;241m.\u001b[39mtime()\n\u001b[0;32m    466\u001b[0m \u001b[38;5;66;03m# Compile circuits\u001b[39;00m\n\u001b[1;32m--> 467\u001b[0m circuits, noise_model \u001b[38;5;241m=\u001b[39m \u001b[38;5;28mself\u001b[39m\u001b[38;5;241m.\u001b[39m_compile(circuits, \u001b[38;5;241m*\u001b[39m\u001b[38;5;241m*\u001b[39mrun_options)\n\u001b[0;32m    469\u001b[0m \u001b[38;5;28;01mif\u001b[39;00m \u001b[38;5;28mself\u001b[39m\u001b[38;5;241m.\u001b[39m_target \u001b[38;5;129;01mis\u001b[39;00m \u001b[38;5;129;01mnot\u001b[39;00m \u001b[38;5;28;01mNone\u001b[39;00m:\n\u001b[0;32m    470\u001b[0m     aer_circuits, idx_maps \u001b[38;5;241m=\u001b[39m assemble_circuits(circuits, \u001b[38;5;28mself\u001b[39m\u001b[38;5;241m.\u001b[39mconfiguration()\u001b[38;5;241m.\u001b[39mbasis_gates)\n",
            "File \u001b[1;32md:\\. NEUROPLASTICITY RESEARCH\\venv\\lib\\site-packages\\qiskit_aer\\backends\\aerbackend.py:541\u001b[0m, in \u001b[0;36mAerBackend._compile\u001b[1;34m(self, circuits, **run_options)\u001b[0m\n\u001b[0;32m    539\u001b[0m \u001b[38;5;28;01mif\u001b[39;00m \u001b[38;5;28misinstance\u001b[39m(circuits, (QuantumCircuit, Schedule, ScheduleBlock)):\n\u001b[0;32m    540\u001b[0m     circuits \u001b[38;5;241m=\u001b[39m [circuits]\n\u001b[1;32m--> 541\u001b[0m optypes \u001b[38;5;241m=\u001b[39m [circuit_optypes(circ) \u001b[38;5;28;01mfor\u001b[39;00m circ \u001b[38;5;129;01min\u001b[39;00m circuits]\n\u001b[0;32m    543\u001b[0m \u001b[38;5;66;03m# Compile Qasm3 instructions\u001b[39;00m\n\u001b[0;32m    544\u001b[0m circuits, optypes \u001b[38;5;241m=\u001b[39m compile_circuit(circuits, optypes\u001b[38;5;241m=\u001b[39moptypes)\n",
            "\u001b[1;31mTypeError\u001b[0m: 'QasmQobj' object is not iterable"
          ]
        }
      ],
      "source": [
        "# Use Aer's qasm_simulator\n",
        "simulator = Aer.get_backend('qasm_simulator')\n",
        "\n",
        "# Transpile the circuit for the chosen simulator\n",
        "transpiled_qc = transpile(qc, simulator)\n",
        "\n",
        "# Assemble the transpiled circuit\n",
        "qobj = assemble(transpiled_qc)\n",
        "\n",
        "# Run the assembled Qobj on the simulator\n",
        "job = simulator.run(qobj)\n",
        "\n",
        "# Grab results from the job\n",
        "result = job.result()\n",
        "\n",
        "# Returns counts\n",
        "counts = result.get_counts()\n",
        "print(\"\\nTotal count for each state is:\", counts)\n"
      ]
    },
    {
      "cell_type": "code",
      "execution_count": null,
      "metadata": {
        "id": "xPF49KjVFUEX"
      },
      "outputs": [],
      "source": [
        "from qiskit import QuantumCircuit, Aer, transpile,\n",
        "\n",
        "# Create a Quantum Circuit with 2 qubits\n",
        "qc = QuantumCircuit(2)\n",
        "\n",
        "# Apply Hadamard gate on the first qubit\n",
        "qc.h(0)\n",
        "\n",
        "# Apply CNOT gate with the first qubit as control and the second as target\n",
        "qc.cx(0, 1)\n",
        "\n",
        "# Apply Z gate on the second qubit\n",
        "qc.z(1)\n",
        "\n",
        "# Apply CNOT gate again\n",
        "qc.cx(  # Minor correction, missing closing parenthesis\n",
        "    0, 1\n",
        ")\n",
        "\n",
        "# Apply Hadamard gate on the second qubit\n",
        "qc.h(1)\n",
        "\n",
        "# Visualize the circuit\n",
        "print(qc.draw())\n",
        "\n",
        "# Use Aer's qasm_simulator\n",
        "simulator = Aer.get_backend('qasm_simulator')\n",
        "\n",
        "# Transpile the circuit for the chosen simulator\n",
        "transpiled_qc = transpile(qc, simulator)\n",
        "\n",
        "# Execute the transpiled circuit on the simulator\n",
        "job = execute(transpiled_qc, simulator, shots=1024)\n",
        "\n",
        "# Grab results from the job\n",
        "result = job.result()\n",
        "\n",
        "# Returns counts\n",
        "counts = result.get_counts(qc)\n",
        "print(\"\\nTotal count for each state is:\", counts)"
      ]
    }
  ],
  "metadata": {
    "kernelspec": {
      "display_name": "venv",
      "language": "python",
      "name": "python3"
    },
    "language_info": {
      "codemirror_mode": {
        "name": "ipython",
        "version": 3
      },
      "file_extension": ".py",
      "mimetype": "text/x-python",
      "name": "python",
      "nbconvert_exporter": "python",
      "pygments_lexer": "ipython3",
      "version": "3.9.13"
    },
    "colab": {
      "provenance": [],
      "include_colab_link": true
    }
  },
  "nbformat": 4,
  "nbformat_minor": 0
}