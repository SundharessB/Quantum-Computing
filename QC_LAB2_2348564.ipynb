{
  "nbformat": 4,
  "nbformat_minor": 0,
  "metadata": {
    "colab": {
      "provenance": [],
      "authorship_tag": "ABX9TyNR3Cb3SofkEg2CO6TKa0g9",
      "include_colab_link": true
    },
    "kernelspec": {
      "name": "python3",
      "display_name": "Python 3"
    },
    "language_info": {
      "name": "python"
    }
  },
  "cells": [
    {
      "cell_type": "markdown",
      "metadata": {
        "id": "view-in-github",
        "colab_type": "text"
      },
      "source": [
        "<a href=\"https://colab.research.google.com/github/SundharessB/Quantum-Computing/blob/main/QC_LAB2_2348564.ipynb\" target=\"_parent\"><img src=\"https://colab.research.google.com/assets/colab-badge.svg\" alt=\"Open In Colab\"/></a>"
      ]
    },
    {
      "cell_type": "code",
      "execution_count": 1,
      "metadata": {
        "id": "6PSym9rj5q_r",
        "outputId": "f4ff7a2d-8e52-40de-9a54-6bd712c223d9",
        "colab": {
          "base_uri": "https://localhost:8080/"
        }
      },
      "outputs": [
        {
          "output_type": "stream",
          "name": "stdout",
          "text": [
            "Collecting qiskit\n",
            "  Downloading qiskit-1.2.4-cp38-abi3-manylinux_2_17_x86_64.manylinux2014_x86_64.whl.metadata (12 kB)\n",
            "Collecting rustworkx>=0.15.0 (from qiskit)\n",
            "  Downloading rustworkx-0.15.1-cp38-abi3-manylinux_2_17_x86_64.manylinux2014_x86_64.whl.metadata (9.9 kB)\n",
            "Requirement already satisfied: numpy<3,>=1.17 in /usr/local/lib/python3.10/dist-packages (from qiskit) (1.26.4)\n",
            "Requirement already satisfied: scipy>=1.5 in /usr/local/lib/python3.10/dist-packages (from qiskit) (1.13.1)\n",
            "Requirement already satisfied: sympy>=1.3 in /usr/local/lib/python3.10/dist-packages (from qiskit) (1.13.1)\n",
            "Collecting dill>=0.3 (from qiskit)\n",
            "  Downloading dill-0.3.9-py3-none-any.whl.metadata (10 kB)\n",
            "Requirement already satisfied: python-dateutil>=2.8.0 in /usr/local/lib/python3.10/dist-packages (from qiskit) (2.8.2)\n",
            "Collecting stevedore>=3.0.0 (from qiskit)\n",
            "  Downloading stevedore-5.3.0-py3-none-any.whl.metadata (2.3 kB)\n",
            "Requirement already satisfied: typing-extensions in /usr/local/lib/python3.10/dist-packages (from qiskit) (4.12.2)\n",
            "Collecting symengine<0.14,>=0.11 (from qiskit)\n",
            "  Downloading symengine-0.13.0-cp310-cp310-manylinux_2_17_x86_64.manylinux2014_x86_64.whl.metadata (1.2 kB)\n",
            "Requirement already satisfied: six>=1.5 in /usr/local/lib/python3.10/dist-packages (from python-dateutil>=2.8.0->qiskit) (1.16.0)\n",
            "Collecting pbr>=2.0.0 (from stevedore>=3.0.0->qiskit)\n",
            "  Downloading pbr-6.1.0-py2.py3-none-any.whl.metadata (3.4 kB)\n",
            "Requirement already satisfied: mpmath<1.4,>=1.1.0 in /usr/local/lib/python3.10/dist-packages (from sympy>=1.3->qiskit) (1.3.0)\n",
            "Downloading qiskit-1.2.4-cp38-abi3-manylinux_2_17_x86_64.manylinux2014_x86_64.whl (4.8 MB)\n",
            "\u001b[2K   \u001b[90m━━━━━━━━━━━━━━━━━━━━━━━━━━━━━━━━━━━━━━━━\u001b[0m \u001b[32m4.8/4.8 MB\u001b[0m \u001b[31m7.7 MB/s\u001b[0m eta \u001b[36m0:00:00\u001b[0m\n",
            "\u001b[?25hDownloading dill-0.3.9-py3-none-any.whl (119 kB)\n",
            "\u001b[2K   \u001b[90m━━━━━━━━━━━━━━━━━━━━━━━━━━━━━━━━━━━━━━━━\u001b[0m \u001b[32m119.4/119.4 kB\u001b[0m \u001b[31m5.0 MB/s\u001b[0m eta \u001b[36m0:00:00\u001b[0m\n",
            "\u001b[?25hDownloading rustworkx-0.15.1-cp38-abi3-manylinux_2_17_x86_64.manylinux2014_x86_64.whl (2.0 MB)\n",
            "\u001b[2K   \u001b[90m━━━━━━━━━━━━━━━━━━━━━━━━━━━━━━━━━━━━━━━━\u001b[0m \u001b[32m2.0/2.0 MB\u001b[0m \u001b[31m13.8 MB/s\u001b[0m eta \u001b[36m0:00:00\u001b[0m\n",
            "\u001b[?25hDownloading stevedore-5.3.0-py3-none-any.whl (49 kB)\n",
            "\u001b[2K   \u001b[90m━━━━━━━━━━━━━━━━━━━━━━━━━━━━━━━━━━━━━━━━\u001b[0m \u001b[32m49.7/49.7 kB\u001b[0m \u001b[31m1.0 MB/s\u001b[0m eta \u001b[36m0:00:00\u001b[0m\n",
            "\u001b[?25hDownloading symengine-0.13.0-cp310-cp310-manylinux_2_17_x86_64.manylinux2014_x86_64.whl (49.7 MB)\n",
            "\u001b[2K   \u001b[90m━━━━━━━━━━━━━━━━━━━━━━━━━━━━━━━━━━━━━━━━\u001b[0m \u001b[32m49.7/49.7 MB\u001b[0m \u001b[31m16.9 MB/s\u001b[0m eta \u001b[36m0:00:00\u001b[0m\n",
            "\u001b[?25hDownloading pbr-6.1.0-py2.py3-none-any.whl (108 kB)\n",
            "\u001b[2K   \u001b[90m━━━━━━━━━━━━━━━━━━━━━━━━━━━━━━━━━━━━━━━━\u001b[0m \u001b[32m108.5/108.5 kB\u001b[0m \u001b[31m4.3 MB/s\u001b[0m eta \u001b[36m0:00:00\u001b[0m\n",
            "\u001b[?25hInstalling collected packages: symengine, rustworkx, pbr, dill, stevedore, qiskit\n",
            "Successfully installed dill-0.3.9 pbr-6.1.0 qiskit-1.2.4 rustworkx-0.15.1 stevedore-5.3.0 symengine-0.13.0\n"
          ]
        }
      ],
      "source": [
        "!pip install qiskit\n"
      ]
    },
    {
      "cell_type": "code",
      "source": [
        "!pip install pylatexenc"
      ],
      "metadata": {
        "id": "AQ4p_HqCt2r_",
        "outputId": "2486afa4-ac55-4ea0-9b63-c06e5cf667c7",
        "colab": {
          "base_uri": "https://localhost:8080/"
        }
      },
      "execution_count": 3,
      "outputs": [
        {
          "output_type": "stream",
          "name": "stdout",
          "text": [
            "Collecting pylatexenc\n",
            "  Downloading pylatexenc-2.10.tar.gz (162 kB)\n",
            "\u001b[?25l     \u001b[90m━━━━━━━━━━━━━━━━━━━━━━━━━━━━━━━━━━━━━━━━\u001b[0m \u001b[32m0.0/162.6 kB\u001b[0m \u001b[31m?\u001b[0m eta \u001b[36m-:--:--\u001b[0m\r\u001b[2K     \u001b[91m━━━━━━━━━━━━━━━━━━━━━━━━━━━━━━━━━━━\u001b[0m\u001b[90m╺\u001b[0m\u001b[90m━━━━\u001b[0m \u001b[32m143.4/162.6 kB\u001b[0m \u001b[31m4.1 MB/s\u001b[0m eta \u001b[36m0:00:01\u001b[0m\r\u001b[2K     \u001b[90m━━━━━━━━━━━━━━━━━━━━━━━━━━━━━━━━━━━━━━━━\u001b[0m \u001b[32m162.6/162.6 kB\u001b[0m \u001b[31m2.9 MB/s\u001b[0m eta \u001b[36m0:00:00\u001b[0m\n",
            "\u001b[?25h  Preparing metadata (setup.py) ... \u001b[?25l\u001b[?25hdone\n",
            "Building wheels for collected packages: pylatexenc\n",
            "  Building wheel for pylatexenc (setup.py) ... \u001b[?25l\u001b[?25hdone\n",
            "  Created wheel for pylatexenc: filename=pylatexenc-2.10-py3-none-any.whl size=136816 sha256=b57eeda091030ace872209e2c0d5a79d6524d7c9cbf4de1429441c11df5d5c42\n",
            "  Stored in directory: /root/.cache/pip/wheels/d3/31/8b/e09b0386afd80cfc556c00408c9aeea5c35c4d484a9c762fd5\n",
            "Successfully built pylatexenc\n",
            "Installing collected packages: pylatexenc\n",
            "Successfully installed pylatexenc-2.10\n"
          ]
        }
      ]
    },
    {
      "cell_type": "code",
      "source": [
        "import qiskit"
      ],
      "metadata": {
        "id": "WAtZkGOttxZQ"
      },
      "execution_count": 2,
      "outputs": []
    },
    {
      "cell_type": "code",
      "source": [
        "from qiskit.quantum_info import Operator\n",
        "from qiskit.quantum_info import Statevector\n",
        "from qiskit import QuantumCircuit\n",
        "from qiskit.visualization import plot_histogram\n",
        "from numpy import sqrt\n",
        "import matplotlib.pyplot as plt\n",
        "import pylatexenc\n",
        "import numpy as np\n"
      ],
      "metadata": {
        "id": "RJAQP82pt5Z_"
      },
      "execution_count": 4,
      "outputs": []
    },
    {
      "cell_type": "code",
      "source": [
        "X = Operator([[0, 1], [1, 0]])\n",
        "Y = Operator([[0, -1.0j], [1.0j, 0]])\n",
        "Z = Operator([[1, 0], [0, -1]])\n",
        "H = Operator([[1/sqrt(2), 1/sqrt(2)], [1/sqrt(2), -1/sqrt(2)]])\n",
        "S = Operator([[1, 0], [0, 1j]])\n",
        "T = Operator([[1, 0], [0, (1.0+1.0j)/sqrt(2)]])\n",
        "\n",
        "v = Statevector([0,1])\n"
      ],
      "metadata": {
        "id": "V7BGTNo5t8NY"
      },
      "execution_count": 5,
      "outputs": []
    },
    {
      "cell_type": "code",
      "source": [
        "print(\"Initial State Vector |1>:\")\n",
        "print(v)"
      ],
      "metadata": {
        "id": "qDYtyBXnt_ix",
        "outputId": "3bf6ccdb-e347-4398-d500-63c427c033b4",
        "colab": {
          "base_uri": "https://localhost:8080/"
        }
      },
      "execution_count": 6,
      "outputs": [
        {
          "output_type": "stream",
          "name": "stdout",
          "text": [
            "Initial State Vector |1>:\n",
            "Statevector([0.+0.j, 1.+0.j],\n",
            "            dims=(2,))\n"
          ]
        }
      ]
    },
    {
      "cell_type": "code",
      "source": [
        "v = X @ v\n",
        "print(\"\\nState after applying X gate:\")\n",
        "print(v)"
      ],
      "metadata": {
        "id": "gf4ZHzZjuEkL",
        "outputId": "c7ea5ac9-f65f-4d4d-b1ca-b27ee6b14050",
        "colab": {
          "base_uri": "https://localhost:8080/"
        }
      },
      "execution_count": 8,
      "outputs": [
        {
          "output_type": "stream",
          "name": "stdout",
          "text": [
            "\n",
            "State after applying X gate:\n",
            "Operator([[0.+0.j, 1.+0.j],\n",
            "          [0.+0.j, 0.+0.j]],\n",
            "         input_dims=(2,), output_dims=(2,))\n"
          ]
        }
      ]
    },
    {
      "cell_type": "code",
      "source": [
        "v = Y @ v\n",
        "print(\"\\nState after applying Y gate:\")\n",
        "print(v)"
      ],
      "metadata": {
        "id": "cafKXZGBuS_H",
        "outputId": "d03b4322-4d07-494a-bae7-151901672162",
        "colab": {
          "base_uri": "https://localhost:8080/"
        }
      },
      "execution_count": 10,
      "outputs": [
        {
          "output_type": "stream",
          "name": "stdout",
          "text": [
            "\n",
            "State after applying Y gate:\n",
            "Operator([[0.+0.j, 1.+0.j],\n",
            "          [0.+0.j, 0.+0.j]],\n",
            "         input_dims=(2,), output_dims=(2,))\n"
          ]
        }
      ]
    },
    {
      "cell_type": "code",
      "source": [
        "v = Z @ v\n",
        "\n",
        "print(\"\\nState after applying Z gate:\")\n",
        "print(v)"
      ],
      "metadata": {
        "id": "qGu9GsnKuTTQ",
        "outputId": "ada89c84-f066-4d8a-fcaf-d0ccac0be0e3",
        "colab": {
          "base_uri": "https://localhost:8080/"
        }
      },
      "execution_count": 11,
      "outputs": [
        {
          "output_type": "stream",
          "name": "stdout",
          "text": [
            "\n",
            "State after applying Z gate:\n",
            "Operator([[0.+0.j, 1.+0.j],\n",
            "          [0.+0.j, 0.+0.j]],\n",
            "         input_dims=(2,), output_dims=(2,))\n"
          ]
        }
      ]
    },
    {
      "cell_type": "code",
      "source": [
        "v = H @ v\n",
        "\n",
        "print(\"\\nState after applying H gate:\")\n",
        "print(v)"
      ],
      "metadata": {
        "id": "riB8wiSpuZY3",
        "outputId": "93c57105-52c8-4594-bbfc-0a9bf2b840d2",
        "colab": {
          "base_uri": "https://localhost:8080/"
        }
      },
      "execution_count": 12,
      "outputs": [
        {
          "output_type": "stream",
          "name": "stdout",
          "text": [
            "\n",
            "State after applying H gate:\n",
            "Operator([[0.        +0.j, 0.70710678+0.j],\n",
            "          [0.        +0.j, 0.70710678+0.j]],\n",
            "         input_dims=(2,), output_dims=(2,))\n"
          ]
        }
      ]
    },
    {
      "cell_type": "code",
      "source": [
        "v = S @ v\n",
        "\n",
        "print(\"\\nState after applying S gate:\")\n",
        "print(v)"
      ],
      "metadata": {
        "id": "zkrztsKAuaIT",
        "outputId": "f324c119-9d1e-448c-fa82-640e4e3be669",
        "colab": {
          "base_uri": "https://localhost:8080/"
        }
      },
      "execution_count": 13,
      "outputs": [
        {
          "output_type": "stream",
          "name": "stdout",
          "text": [
            "\n",
            "State after applying S gate:\n",
            "Operator([[0.        +0.j        , 0.70710678+0.j        ],\n",
            "          [0.        +0.j        , 0.        +0.70710678j]],\n",
            "         input_dims=(2,), output_dims=(2,))\n"
          ]
        }
      ]
    },
    {
      "cell_type": "code",
      "source": [
        "v = T @ v\n",
        "print(\"\\nState after applying T gate:\")\n",
        "print(v)\n"
      ],
      "metadata": {
        "id": "nLbpMNlUucb-",
        "outputId": "fd48f495-44fb-43c7-d66d-cf379f6b21ad",
        "colab": {
          "base_uri": "https://localhost:8080/"
        }
      },
      "execution_count": 14,
      "outputs": [
        {
          "output_type": "stream",
          "name": "stdout",
          "text": [
            "\n",
            "State after applying T gate:\n",
            "Operator([[ 0.        +0.j ,  0.70710678+0.j ],\n",
            "          [ 0.        +0.j , -0.5       +0.5j]],\n",
            "         input_dims=(2,), output_dims=(2,))\n"
          ]
        }
      ]
    },
    {
      "cell_type": "code",
      "source": [
        "circuit = QuantumCircuit(1)\n",
        "circuit.x(0)\n",
        "circuit.y(0)\n",
        "circuit.z(0)\n",
        "circuit.h(0)\n",
        "circuit.s(0)\n",
        "circuit.t(0)\n",
        "\n",
        "display(circuit.draw(output='mpl'))"
      ],
      "metadata": {
        "id": "_8saNd9Gug6Q",
        "outputId": "711da148-ada0-4bda-d199-05efeb08df0e",
        "colab": {
          "base_uri": "https://localhost:8080/",
          "height": 127
        }
      },
      "execution_count": 15,
      "outputs": [
        {
          "output_type": "display_data",
          "data": {
            "text/plain": [
              "<Figure size 603.508x117.056 with 1 Axes>"
            ],
            "image/png": "[encoded data removed]"
          },
          "metadata": {}
        }
      ]
    },
    {
      "cell_type": "code",
      "source": [
        "ket0 = Statevector([1,0])\n",
        "v = ket0.evolve(circuit)\n",
        "v.draw(\"text\")"
      ],
      "metadata": {
        "id": "YjT7JIIrujwz",
        "outputId": "86380a95-6b40-4097-9732-7bf3edc6885d",
        "colab": {
          "base_uri": "https://localhost:8080/"
        }
      },
      "execution_count": 16,
      "outputs": [
        {
          "output_type": "execute_result",
          "data": {
            "text/plain": [
              "[0. -0.70710678j,0.5+0.5j       ]"
            ]
          },
          "metadata": {},
          "execution_count": 16
        }
      ]
    },
    {
      "cell_type": "code",
      "source": [
        "stats = v.sample_counts(10000)\n",
        "plot_histogram(stats)"
      ],
      "metadata": {
        "id": "ckOMvEGZum-C",
        "outputId": "e855d26e-393b-4093-d85f-1a1f02d9526e",
        "colab": {
          "base_uri": "https://localhost:8080/",
          "height": 429
        }
      },
      "execution_count": 17,
      "outputs": [
        {
          "output_type": "execute_result",
          "data": {
            "text/plain": [
              "<Figure size 640x480 with 1 Axes>"
            ],
            "image/png": "[encoded data removed]"
          },
          "metadata": {},
          "execution_count": 17
        }
      ]
    },
    {
      "cell_type": "code",
      "source": [
        "R = H @ S @ H"
      ],
      "metadata": {
        "id": "yi45tChzupCw"
      },
      "execution_count": 18,
      "outputs": []
    },
    {
      "cell_type": "code",
      "source": [
        "print(\"R = H * S * H matrix:\")\n",
        "print(R)"
      ],
      "metadata": {
        "id": "VseSLvH-utEP",
        "outputId": "c6752d31-fa1a-4561-b873-7c686107d627",
        "colab": {
          "base_uri": "https://localhost:8080/"
        }
      },
      "execution_count": 19,
      "outputs": [
        {
          "output_type": "stream",
          "name": "stdout",
          "text": [
            "R = H * S * H matrix:\n",
            "Operator([[0.5+0.5j, 0.5-0.5j],\n",
            "          [0.5-0.5j, 0.5+0.5j]],\n",
            "         input_dims=(2,), output_dims=(2,))\n"
          ]
        }
      ]
    },
    {
      "cell_type": "code",
      "source": [
        "RD = np.conjugate(R).T\n",
        "identity = R @ RD"
      ],
      "metadata": {
        "id": "8Hl_N3MFuu3X"
      },
      "execution_count": 20,
      "outputs": []
    },
    {
      "cell_type": "code",
      "source": [
        "print(\"\\nR * R^†:\")\n",
        "print(identity)\n"
      ],
      "metadata": {
        "id": "Ql3A1q0nuzVc",
        "outputId": "064f4bb1-6c89-4fa7-e51a-4a5823e55859",
        "colab": {
          "base_uri": "https://localhost:8080/"
        }
      },
      "execution_count": 21,
      "outputs": [
        {
          "output_type": "stream",
          "name": "stdout",
          "text": [
            "\n",
            "R * R^†:\n",
            "Operator([[1.+0.00000000e+00j, 0.-2.46519033e-32j],\n",
            "          [0.+2.46519033e-32j, 1.+0.00000000e+00j]],\n",
            "         input_dims=(2,), output_dims=(2,))\n"
          ]
        }
      ]
    },
    {
      "cell_type": "code",
      "source": [
        "uni = np.allclose(identity, np.eye(2))\n",
        "uni"
      ],
      "metadata": {
        "id": "HuBQSXeXuzhV",
        "outputId": "6b70dde5-171c-4e12-b016-e615c221973c",
        "colab": {
          "base_uri": "https://localhost:8080/"
        }
      },
      "execution_count": 22,
      "outputs": [
        {
          "output_type": "execute_result",
          "data": {
            "text/plain": [
              "True"
            ]
          },
          "metadata": {},
          "execution_count": 22
        }
      ]
    }
  ]
}