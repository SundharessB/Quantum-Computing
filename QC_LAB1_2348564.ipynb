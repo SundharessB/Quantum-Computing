{
  "nbformat": 4,
  "nbformat_minor": 0,
  "metadata": {
    "colab": {
      "provenance": [],
      "authorship_tag": "ABX9TyMUwngzmSi92OGuLVyYCKmh",
      "include_colab_link": true
    },
    "kernelspec": {
      "name": "python3",
      "display_name": "Python 3"
    },
    "language_info": {
      "name": "python"
    }
  },
  "cells": [
    {
      "cell_type": "markdown",
      "metadata": {
        "id": "view-in-github",
        "colab_type": "text"
      },
      "source": [
        "<a href=\"https://colab.research.google.com/github/SundharessB/Quantum-Computing/blob/main/QC_LAB1_2348564.ipynb\" target=\"_parent\"><img src=\"https://colab.research.google.com/assets/colab-badge.svg\" alt=\"Open In Colab\"/></a>"
      ]
    },
    {
      "cell_type": "code",
      "source": [
        "import numpy as np"
      ],
      "metadata": {
        "id": "ZlKqyZOAGijh"
      },
      "execution_count": null,
      "outputs": []
    },
    {
      "cell_type": "code",
      "source": [
        "from numpy import array"
      ],
      "metadata": {
        "id": "LSnq9xlxE0ki"
      },
      "execution_count": null,
      "outputs": []
    },
    {
      "cell_type": "markdown",
      "source": [
        "ket0 and ket1 are the basis states of a qubit, also known as computational basis states:\n",
        "\n",
        "|0⟩ (ket0) represents the qubit in the \"0\" state (binary 0).\n",
        "|1⟩ (ket1) represents the qubit in the \"1\" state (binary 1).\n",
        "\n",
        "These two states form the fundamental basis for quantum computing. Any quantum state can be expressed as a linear combination (superposition) of these two states."
      ],
      "metadata": {
        "id": "-4D95GmfetzJ"
      }
    },
    {
      "cell_type": "code",
      "source": [
        "ket0 = array([1, 0])\n",
        "ket1 = array([0, 1])\n"
      ],
      "metadata": {
        "id": "lM7kLTvaFY1N"
      },
      "execution_count": null,
      "outputs": []
    },
    {
      "cell_type": "markdown",
      "source": [
        "Superposition is a core principle in quantum mechanics where a qubit can be in a combination of both |0⟩ and |1⟩. The qubit doesn’t just have a single value, but rather exists in both states simultaneously.\n",
        "Here, the state is\n",
        "(\n",
        "∣\n",
        "0\n",
        "⟩\n",
        "+\n",
        "∣\n",
        "1\n",
        "⟩\n",
        ")\n",
        "/\n",
        "2\n",
        "(∣0⟩+∣1⟩)/2, which is a simple superposition with equal probability amplitude for both states.\n",
        "Why it’s used: Superposition enables quantum computers to process multiple possibilities simultaneously, a key reason quantum computers can solve specific problems much faster than classical computers."
      ],
      "metadata": {
        "id": "N5Ni44HFe9aZ"
      }
    },
    {
      "cell_type": "code",
      "source": [
        "superposition = (ket0 / 2) + (ket1 / 2)\n"
      ],
      "metadata": {
        "id": "iGp8OBXgFavN"
      },
      "execution_count": null,
      "outputs": []
    },
    {
      "cell_type": "code",
      "source": [
        "superposition"
      ],
      "metadata": {
        "colab": {
          "base_uri": "https://localhost:8080/"
        },
        "id": "7m3cpKVIFfsY",
        "outputId": "08b5a789-548b-4c8f-c2e4-6a5150a84049"
      },
      "execution_count": null,
      "outputs": [
        {
          "output_type": "execute_result",
          "data": {
            "text/plain": [
              "array([0.5, 0.5])"
            ]
          },
          "metadata": {},
          "execution_count": 10
        }
      ]
    },
    {
      "cell_type": "markdown",
      "source": [
        "M1 (Identity Matrix): The identity matrix is a quantum operator that leaves a quantum state unchanged after application. In quantum mechanics, the identity matrix is analogous to doing nothing to a state.\n",
        "M2 (Quantum Gate): This is a non-standard quantum gate. Typically, quantum gates like Pauli matrices (X, Y, Z) or Hadamard are used, but M2 here is used as an example matrix to demonstrate matrix multiplication.\n",
        " Quantum gates are operations that manipulate qubits. By applying these gates (matrices) to qubits (state vectors), you change the state of the quantum system."
      ],
      "metadata": {
        "id": "rD5B9OnIg7U4"
      }
    },
    {
      "cell_type": "code",
      "execution_count": null,
      "metadata": {
        "id": "oEHms3Xv-oOL"
      },
      "outputs": [],
      "source": [
        "M1 = array([[1, 0], [0, 1]])\n",
        "M2 = array([[1, 1], [1, 0]])\n"
      ]
    },
    {
      "cell_type": "code",
      "source": [
        "\n",
        "result = (M1 / 2) + (M2 / 2)"
      ],
      "metadata": {
        "id": "masl-W5REt7s"
      },
      "execution_count": null,
      "outputs": []
    },
    {
      "cell_type": "markdown",
      "source": [
        "This line takes the average of two matrices M1 and M2. It's a demonstration of linear algebraic operations on matrices."
      ],
      "metadata": {
        "id": "htUjCvJehOX4"
      }
    },
    {
      "cell_type": "code",
      "source": [
        "result"
      ],
      "metadata": {
        "colab": {
          "base_uri": "https://localhost:8080/"
        },
        "id": "ggDRgFkJFBym",
        "outputId": "58808ad5-d45a-4081-bfad-7fb780d44fc2"
      },
      "execution_count": null,
      "outputs": [
        {
          "output_type": "execute_result",
          "data": {
            "text/plain": [
              "array([[1. , 0.5],\n",
              "       [0.5, 0.5]])"
            ]
          },
          "metadata": {},
          "execution_count": 7
        }
      ]
    },
    {
      "cell_type": "markdown",
      "source": [
        "M1 * ket1: Applying the identity matrix M1 to the state ket1 results in ket1 since the identity matrix doesn’t alter the state.\n",
        "M1 * M2 and M2 * M1: This computes the product of two quantum gates."
      ],
      "metadata": {
        "id": "QEPkCLEbhaTF"
      }
    },
    {
      "cell_type": "code",
      "source": [
        "result1 = np.matmul(M1, ket1)\n",
        "result2 = np.matmul(M1, M2)\n",
        "result3 = np.matmul(M2, M1)\n",
        "\n",
        "# Display the results\n",
        "print(\"M1 * ket:\\n\", result1)\n",
        "print(\"M1 * M2:\\n\", result2)\n",
        "print(\"M2 * M1:\\n\", result3)\n"
      ],
      "metadata": {
        "colab": {
          "base_uri": "https://localhost:8080/"
        },
        "id": "voZx_FUqFDzu",
        "outputId": "33b4bd33-c3fe-4cdd-9682-f43040bcc00e"
      },
      "execution_count": null,
      "outputs": [
        {
          "output_type": "stream",
          "name": "stdout",
          "text": [
            "M1 * ket:\n",
            " [0 1]\n",
            "M1 * M2:\n",
            " [[1 1]\n",
            " [1 0]]\n",
            "M2 * M1:\n",
            " [[1 1]\n",
            " [1 0]]\n"
          ]
        }
      ]
    },
    {
      "cell_type": "code",
      "source": [
        "from numpy import sqrt"
      ],
      "metadata": {
        "id": "k5XQ4fuPrP26"
      },
      "execution_count": null,
      "outputs": []
    },
    {
      "cell_type": "code",
      "source": [
        "!pip install qiskit\n"
      ],
      "metadata": {
        "colab": {
          "base_uri": "https://localhost:8080/"
        },
        "id": "Rc0KjZVTr8u1",
        "outputId": "693b00e9-f063-4080-c629-fdeab8705d6c"
      },
      "execution_count": null,
      "outputs": [
        {
          "output_type": "stream",
          "name": "stdout",
          "text": [
            "Collecting qiskit\n",
            "  Downloading qiskit-1.2.2-cp38-abi3-manylinux_2_17_x86_64.manylinux2014_x86_64.whl.metadata (12 kB)\n",
            "Collecting rustworkx>=0.15.0 (from qiskit)\n",
            "  Downloading rustworkx-0.15.1-cp38-abi3-manylinux_2_17_x86_64.manylinux2014_x86_64.whl.metadata (9.9 kB)\n",
            "Requirement already satisfied: numpy<3,>=1.17 in /usr/local/lib/python3.10/dist-packages (from qiskit) (1.26.4)\n",
            "Requirement already satisfied: scipy>=1.5 in /usr/local/lib/python3.10/dist-packages (from qiskit) (1.13.1)\n",
            "Requirement already satisfied: sympy>=1.3 in /usr/local/lib/python3.10/dist-packages (from qiskit) (1.13.3)\n",
            "Collecting dill>=0.3 (from qiskit)\n",
            "  Downloading dill-0.3.8-py3-none-any.whl.metadata (10 kB)\n",
            "Requirement already satisfied: python-dateutil>=2.8.0 in /usr/local/lib/python3.10/dist-packages (from qiskit) (2.8.2)\n",
            "Collecting stevedore>=3.0.0 (from qiskit)\n",
            "  Downloading stevedore-5.3.0-py3-none-any.whl.metadata (2.3 kB)\n",
            "Requirement already satisfied: typing-extensions in /usr/local/lib/python3.10/dist-packages (from qiskit) (4.12.2)\n",
            "Collecting symengine>=0.11 (from qiskit)\n",
            "  Downloading symengine-0.11.0-cp310-cp310-manylinux_2_12_x86_64.manylinux2010_x86_64.whl.metadata (1.2 kB)\n",
            "Requirement already satisfied: six>=1.5 in /usr/local/lib/python3.10/dist-packages (from python-dateutil>=2.8.0->qiskit) (1.16.0)\n",
            "Collecting pbr>=2.0.0 (from stevedore>=3.0.0->qiskit)\n",
            "  Downloading pbr-6.1.0-py2.py3-none-any.whl.metadata (3.4 kB)\n",
            "Requirement already satisfied: mpmath<1.4,>=1.1.0 in /usr/local/lib/python3.10/dist-packages (from sympy>=1.3->qiskit) (1.3.0)\n",
            "Downloading qiskit-1.2.2-cp38-abi3-manylinux_2_17_x86_64.manylinux2014_x86_64.whl (4.7 MB)\n",
            "\u001b[2K   \u001b[90m━━━━━━━━━━━━━━━━━━━━━━━━━━━━━━━━━━━━━━━━\u001b[0m \u001b[32m4.7/4.7 MB\u001b[0m \u001b[31m40.9 MB/s\u001b[0m eta \u001b[36m0:00:00\u001b[0m\n",
            "\u001b[?25hDownloading dill-0.3.8-py3-none-any.whl (116 kB)\n",
            "\u001b[2K   \u001b[90m━━━━━━━━━━━━━━━━━━━━━━━━━━━━━━━━━━━━━━━━\u001b[0m \u001b[32m116.3/116.3 kB\u001b[0m \u001b[31m6.8 MB/s\u001b[0m eta \u001b[36m0:00:00\u001b[0m\n",
            "\u001b[?25hDownloading rustworkx-0.15.1-cp38-abi3-manylinux_2_17_x86_64.manylinux2014_x86_64.whl (2.0 MB)\n",
            "\u001b[2K   \u001b[90m━━━━━━━━━━━━━━━━━━━━━━━━━━━━━━━━━━━━━━━━\u001b[0m \u001b[32m2.0/2.0 MB\u001b[0m \u001b[31m49.9 MB/s\u001b[0m eta \u001b[36m0:00:00\u001b[0m\n",
            "\u001b[?25hDownloading stevedore-5.3.0-py3-none-any.whl (49 kB)\n",
            "\u001b[2K   \u001b[90m━━━━━━━━━━━━━━━━━━━━━━━━━━━━━━━━━━━━━━━━\u001b[0m \u001b[32m49.7/49.7 kB\u001b[0m \u001b[31m2.8 MB/s\u001b[0m eta \u001b[36m0:00:00\u001b[0m\n",
            "\u001b[?25hDownloading symengine-0.11.0-cp310-cp310-manylinux_2_12_x86_64.manylinux2010_x86_64.whl (39.4 MB)\n",
            "\u001b[2K   \u001b[90m━━━━━━━━━━━━━━━━━━━━━━━━━━━━━━━━━━━━━━━━\u001b[0m \u001b[32m39.4/39.4 MB\u001b[0m \u001b[31m18.7 MB/s\u001b[0m eta \u001b[36m0:00:00\u001b[0m\n",
            "\u001b[?25hDownloading pbr-6.1.0-py2.py3-none-any.whl (108 kB)\n",
            "\u001b[2K   \u001b[90m━━━━━━━━━━━━━━━━━━━━━━━━━━━━━━━━━━━━━━━━\u001b[0m \u001b[32m108.5/108.5 kB\u001b[0m \u001b[31m6.4 MB/s\u001b[0m eta \u001b[36m0:00:00\u001b[0m\n",
            "\u001b[?25hInstalling collected packages: symengine, rustworkx, pbr, dill, stevedore, qiskit\n",
            "Successfully installed dill-0.3.8 pbr-6.1.0 qiskit-1.2.2 rustworkx-0.15.1 stevedore-5.3.0 symengine-0.11.0\n"
          ]
        }
      ]
    },
    {
      "cell_type": "markdown",
      "source": [
        "Statevector is a Qiskit class that represents a quantum state. It provides methods for initializing, manipulating, and measuring quantum states."
      ],
      "metadata": {
        "id": "dk_eftkOhkzz"
      }
    },
    {
      "cell_type": "code",
      "source": [
        "from qiskit.quantum_info import Statevector\n",
        "\n",
        "# Define the state vectors\n",
        "u = Statevector([1 / sqrt(2), 1 / sqrt(2)])\n",
        "v = Statevector([(1 + 2.8j) / 3, -2 / 3])\n",
        "w = Statevector([1 / 3, 2 / 3])\n"
      ],
      "metadata": {
        "id": "vzYh6r_4pN8Z"
      },
      "execution_count": null,
      "outputs": []
    },
    {
      "cell_type": "code",
      "source": [
        "\n",
        "# Display the state vectors in LaTeX and text format\n",
        "display(u.draw(\"latex\"))\n",
        "display(v.draw(\"text\"))\n"
      ],
      "metadata": {
        "colab": {
          "base_uri": "https://localhost:8080/",
          "height": 58
        },
        "id": "Z1ov9NtAroji",
        "outputId": "d3f35d04-6828-4e9d-bf51-87860c993003"
      },
      "execution_count": null,
      "outputs": [
        {
          "output_type": "display_data",
          "data": {
            "text/plain": [
              "<IPython.core.display.Latex object>"
            ],
            "text/latex": "$$\\frac{\\sqrt{2}}{2} |0\\rangle+\\frac{\\sqrt{2}}{2} |1\\rangle$$"
          },
          "metadata": {}
        },
        {
          "output_type": "display_data",
          "data": {
            "text/plain": [
              "[ 0.33333333+0.93333333j,-0.66666667+0.j        ]"
            ]
          },
          "metadata": {}
        }
      ]
    },
    {
      "cell_type": "code",
      "source": [
        "\n",
        "# Check if the state vectors are valid\n",
        "print(u.is_valid())\n",
        "print(w.is_valid())"
      ],
      "metadata": {
        "colab": {
          "base_uri": "https://localhost:8080/"
        },
        "id": "-uBNkfkxsFOH",
        "outputId": "bcd37d43-aefd-4ab9-87a0-8eddfc1a3957"
      },
      "execution_count": null,
      "outputs": [
        {
          "output_type": "stream",
          "name": "stdout",
          "text": [
            "True\n",
            "False\n"
          ]
        }
      ]
    },
    {
      "cell_type": "code",
      "source": [
        "from numpy import sqrt, linalg\n",
        "\n",
        "# Normalize the state vecto\n",
        "u = Statevector(u.data / linalg.norm(u.data))\n",
        "v = Statevector(v.data / linalg.norm(v.data))\n",
        "w = Statevector(w.data / linalg.norm(w.data))\n",
        "\n"
      ],
      "metadata": {
        "id": "ZASbj48otFBn"
      },
      "execution_count": null,
      "outputs": []
    },
    {
      "cell_type": "code",
      "source": [
        "from qiskit.visualization import plot_histogram\n",
        "\n",
        "# Assuming you have a QuantumCircuit object named 'circuit'\n",
        "# and have executed it on a simulator or quantum hardware\n",
        "\n",
        "\n",
        "# Sample the counts 1000 times\n",
        "statistics = v.sample_counts(1000)\n",
        "\n",
        "# Display the statistics\n",
        "display(statistics)\n",
        "\n",
        "# Plot the histogram of the statistics\n",
        "plot_histogram(statistics)"
      ],
      "metadata": {
        "colab": {
          "base_uri": "https://localhost:8080/",
          "height": 446
        },
        "id": "Zq0d-Q22sNRo",
        "outputId": "d4e9e45d-1635-46d4-9012-09c356f30211"
      },
      "execution_count": null,
      "outputs": [
        {
          "output_type": "display_data",
          "data": {
            "text/plain": [
              "{'0': 704, '1': 296}"
            ]
          },
          "metadata": {}
        },
        {
          "output_type": "execute_result",
          "data": {
            "text/plain": [
              "<Figure size 640x480 with 1 Axes>"
            ],
            "image/png": "[encoded data removed]"
          },
          "metadata": {},
          "execution_count": 17
        }
      ]
    },
    {
      "cell_type": "code",
      "source": [],
      "metadata": {
        "id": "4MgGaOznsjtF"
      },
      "execution_count": null,
      "outputs": []
    }
  ]
}