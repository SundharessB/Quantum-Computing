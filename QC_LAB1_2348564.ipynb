{
  "nbformat": 4,
  "nbformat_minor": 0,
  "metadata": {
    "colab": {
      "provenance": [],
      "authorship_tag": "ABX9TyMJ0QRSuJP5C+BK/3REjejY",
      "include_colab_link": true
    },
    "kernelspec": {
      "name": "python3",
      "display_name": "Python 3"
    },
    "language_info": {
      "name": "python"
    }
  },
  "cells": [
    {
      "cell_type": "markdown",
      "metadata": {
        "id": "view-in-github",
        "colab_type": "text"
      },
      "source": [
        "<a href=\"https://colab.research.google.com/github/SundharessB/Quantum-Computing/blob/main/QC_LAB1_2348564.ipynb\" target=\"_parent\"><img src=\"https://colab.research.google.com/assets/colab-badge.svg\" alt=\"Open In Colab\"/></a>"
      ]
    },
    {
      "cell_type": "code",
      "source": [
        "import numpy as np"
      ],
      "metadata": {
        "id": "ZlKqyZOAGijh"
      },
      "execution_count": 1,
      "outputs": []
    },
    {
      "cell_type": "code",
      "source": [
        "from numpy import array"
      ],
      "metadata": {
        "id": "LSnq9xlxE0ki"
      },
      "execution_count": 2,
      "outputs": []
    },
    {
      "cell_type": "markdown",
      "source": [
        "ket0 and ket1 are the basis states of a qubit, also known as computational basis states:\n",
        "\n",
        "|0⟩ (ket0) represents the qubit in the \"0\" state (binary 0).\n",
        "|1⟩ (ket1) represents the qubit in the \"1\" state (binary 1).\n",
        "\n",
        "These two states form the fundamental basis for quantum computing. Any quantum state can be expressed as a linear combination (superposition) of these two states."
      ],
      "metadata": {
        "id": "-4D95GmfetzJ"
      }
    },
    {
      "cell_type": "code",
      "source": [
        "ket_0 = np.array([[1], [0]])\n",
        "ket_1 = np.array([[0], [1]])\n"
      ],
      "metadata": {
        "id": "RfM72jUicqNA"
      },
      "execution_count": 3,
      "outputs": []
    },
    {
      "cell_type": "markdown",
      "source": [
        "Superposition is a core principle in quantum mechanics where a qubit can be in a combination of both |0⟩ and |1⟩. The qubit doesn’t just have a single value, but rather exists in both states simultaneously.\n",
        "Here, the state is\n",
        "(\n",
        "∣\n",
        "0\n",
        "⟩\n",
        "+\n",
        "∣\n",
        "1\n",
        "⟩\n",
        ")\n",
        "/\n",
        "2\n",
        "(∣0⟩+∣1⟩)/2, which is a simple superposition with equal probability amplitude for both states.\n",
        "Why it’s used: Superposition enables quantum computers to process multiple possibilities simultaneously, a key reason quantum computers can solve specific problems much faster than classical computers."
      ],
      "metadata": {
        "id": "N5Ni44HFe9aZ"
      }
    },
    {
      "cell_type": "code",
      "source": [
        "alpha = 1 / np.sqrt(2)\n",
        "beta = 1 / np.sqrt(2)\n",
        "qubit_state = alpha * ket_0 + beta * ket_1\n",
        "print(\"Qubit state |ψ⟩:\")\n",
        "print(qubit_state)"
      ],
      "metadata": {
        "id": "z2332tqacva1",
        "outputId": "aaee06df-8d80-4ba1-fc2d-4a79a3e28628",
        "colab": {
          "base_uri": "https://localhost:8080/"
        }
      },
      "execution_count": 4,
      "outputs": [
        {
          "output_type": "stream",
          "name": "stdout",
          "text": [
            "Qubit state |ψ⟩:\n",
            "[[0.70710678]\n",
            " [0.70710678]]\n"
          ]
        }
      ]
    },
    {
      "cell_type": "code",
      "source": [
        "\n",
        "def check_qubit_state(alpha, beta):\n",
        "    ket_0 = np.array([[1], [0]])\n",
        "    ket_1 = np.array([[0], [1]])\n",
        "\n",
        "    qubit_state = alpha * ket_0 + beta * ket_1\n",
        "\n",
        "    print(\"Qubit state |ψ⟩:\")\n",
        "    print(qubit_state)\n",
        "\n",
        "    norm_squared = np.abs(alpha)**2 + np.abs(beta)**2\n",
        "\n",
        "    if np.isclose(norm_squared, 1.0):\n",
        "        print(\"The state is valid (normalized).\")\n",
        "    else:\n",
        "        print(\"The state is invalid (not normalized).\")"
      ],
      "metadata": {
        "id": "X6gmQaVYc9Ou"
      },
      "execution_count": 5,
      "outputs": []
    },
    {
      "cell_type": "code",
      "source": [
        "alpha_valid = 1 / np.sqrt(2)\n",
        "beta_valid = 1 / np.sqrt(2)\n",
        "print(\"Checking valid state:\")\n",
        "check_qubit_state(alpha_valid, beta_valid)\n",
        "print()\n",
        "\n"
      ],
      "metadata": {
        "id": "WvIiavV3dFic",
        "outputId": "2aef40fe-556b-4e8f-f286-3eeac821ee4c",
        "colab": {
          "base_uri": "https://localhost:8080/"
        }
      },
      "execution_count": 6,
      "outputs": [
        {
          "output_type": "stream",
          "name": "stdout",
          "text": [
            "Checking valid state:\n",
            "Qubit state |ψ⟩:\n",
            "[[0.70710678]\n",
            " [0.70710678]]\n",
            "The state is valid (normalized).\n",
            "\n"
          ]
        }
      ]
    },
    {
      "cell_type": "code",
      "source": [
        "alpha_invalid = 1\n",
        "beta_invalid = 1\n",
        "\n",
        "print(\"Checking invalid state:\")\n",
        "check_qubit_state(alpha_invalid, beta_invalid)\n"
      ],
      "metadata": {
        "id": "JsWKGH8edLLa",
        "outputId": "b93aa550-fabc-4458-9b65-44a7cc86f611",
        "colab": {
          "base_uri": "https://localhost:8080/"
        }
      },
      "execution_count": 7,
      "outputs": [
        {
          "output_type": "stream",
          "name": "stdout",
          "text": [
            "Checking invalid state:\n",
            "Qubit state |ψ⟩:\n",
            "[[1]\n",
            " [1]]\n",
            "The state is invalid (not normalized).\n"
          ]
        }
      ]
    },
    {
      "cell_type": "code",
      "source": [
        "import matplotlib.pyplot as plt\n",
        "def simulate_measurements(alpha, beta, num_measurements):\n",
        "    prob_0 = np.abs(alpha)**2\n",
        "    prob_1 = np.abs(beta)**2\n",
        "\n",
        "    if not np.isclose(prob_0 + prob_1, 1.0):\n",
        "        raise ValueError(\"The state is not normalized.\")\n",
        "\n",
        "    measurements = np.random.choice([0, 1], size=num_measurements, p=[prob_0, prob_1])\n",
        "\n",
        "    counts = np.bincount(measurements, minlength=2)\n",
        "\n",
        "    plt.bar(['|0⟩', '|1⟩'], counts, color=['blue', 'red'])\n",
        "    plt.title(f'Simulated Measurements (n = {num_measurements})')\n",
        "    plt.ylabel('Count')\n",
        "    plt.xlabel('Outcome')\n",
        "    plt.show()\n",
        "\n",
        "    return counts, counts / num_measurements"
      ],
      "metadata": {
        "id": "h616y76pdchP"
      },
      "execution_count": 8,
      "outputs": []
    },
    {
      "cell_type": "code",
      "source": [
        "\n",
        "alpha = 1 / np.sqrt(2)\n",
        "beta = 1 / np.sqrt(2)\n",
        "num_measurements = 1000\n",
        "counts, probabilities = simulate_measurements(alpha, beta, num_measurements)"
      ],
      "metadata": {
        "id": "6Xrs-OY4dfuF",
        "outputId": "e2dae3bf-bc59-4ef0-ad75-48d185d39dd6",
        "colab": {
          "base_uri": "https://localhost:8080/",
          "height": 472
        }
      },
      "execution_count": 9,
      "outputs": [
        {
          "output_type": "display_data",
          "data": {
            "text/plain": [
              "<Figure size 640x480 with 1 Axes>"
            ],
            "image/png": "[encoded data removed]"
          },
          "metadata": {}
        }
      ]
    },
    {
      "cell_type": "code",
      "source": [
        "\n",
        "print(f\"Counts: |0⟩ = {counts[0]}, |1⟩ = {counts[1]}\")\n",
        "print(f\"Probabilities: |0⟩ = {probabilities[0]:.3f}, |1⟩ = {probabilities[1]:.3f}\")\n"
      ],
      "metadata": {
        "id": "pt4CRKMacgPL",
        "outputId": "f22f6646-a31e-4bb5-ecf8-c3a548570f6b",
        "colab": {
          "base_uri": "https://localhost:8080/"
        }
      },
      "execution_count": 10,
      "outputs": [
        {
          "output_type": "stream",
          "name": "stdout",
          "text": [
            "Counts: |0⟩ = 487, |1⟩ = 513\n",
            "Probabilities: |0⟩ = 0.487, |1⟩ = 0.513\n"
          ]
        }
      ]
    }
  ]
}